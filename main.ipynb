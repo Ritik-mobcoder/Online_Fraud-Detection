{
 "cells": [
  {
   "cell_type": "code",
   "execution_count": 2,
   "metadata": {},
   "outputs": [],
   "source": [
    "import numpy as np\n",
    "import pandas as pd\n",
    "import matplotlib.pyplot as plt\n",
    "import seaborn as sns\n"
   ]
  },
  {
   "cell_type": "code",
   "execution_count": 6,
   "metadata": {},
   "outputs": [
    {
     "name": "stdout",
     "output_type": "stream",
     "text": [
      "<bound method DataFrame.info of       step      type     amount     nameOrig  oldbalanceOrg  newbalanceOrig  \\\n",
      "0        1   PAYMENT    9839.64  C1231006815       170136.0       160296.36   \n",
      "1        1   PAYMENT    1864.28  C1666544295        21249.0        19384.72   \n",
      "2        1  TRANSFER     181.00  C1305486145          181.0            0.00   \n",
      "3        1  CASH_OUT     181.00   C840083671          181.0            0.00   \n",
      "4        1   PAYMENT   11668.14  C2048537720        41554.0        29885.86   \n",
      "...    ...       ...        ...          ...            ...             ...   \n",
      "9995     7   PAYMENT     466.73   C517929856          881.0          414.27   \n",
      "9996     7   PAYMENT    8239.66  C1483641522        11515.0         3275.34   \n",
      "9997     7   PAYMENT    6063.34   C728110179        31409.0        25345.66   \n",
      "9998     7  TRANSFER  317806.64  C1021138110        10901.0            0.00   \n",
      "9999     7   PAYMENT    5096.16   C299358529        60472.0        55375.84   \n",
      "\n",
      "         nameDest  oldbalanceDest  newbalanceDest  isFraud  isFlaggedFraud  \n",
      "0     M1979787155             0.0             0.0        0               0  \n",
      "1     M2044282225             0.0             0.0        0               0  \n",
      "2      C553264065             0.0             0.0        1               0  \n",
      "3       C38997010         21182.0             0.0        1               0  \n",
      "4     M1230701703             0.0             0.0        0               0  \n",
      "...           ...             ...             ...      ...             ...  \n",
      "9995  M2128130537             0.0             0.0        0               0  \n",
      "9996  M1108211033             0.0             0.0        0               0  \n",
      "9997   M277524255             0.0             0.0        0               0  \n",
      "9998  C1935506329        103168.0             0.0        0               0  \n",
      "9999   M176755220             0.0             0.0        0               0  \n",
      "\n",
      "[10000 rows x 11 columns]>\n"
     ]
    }
   ],
   "source": [
    "df = pd.read_csv(\"onlinefraud.csv\", nrows=10000)  #Loading 10000 rows in d\n",
    "# print(df.head())\n",
    "print(df.info)\n"
   ]
  },
  {
   "cell_type": "code",
   "execution_count": null,
   "metadata": {},
   "outputs": [],
   "source": []
  }
 ],
 "metadata": {
  "kernelspec": {
   "display_name": "base",
   "language": "python",
   "name": "python3"
  },
  "language_info": {
   "codemirror_mode": {
    "name": "ipython",
    "version": 3
   },
   "file_extension": ".py",
   "mimetype": "text/x-python",
   "name": "python",
   "nbconvert_exporter": "python",
   "pygments_lexer": "ipython3",
   "version": "3.12.7"
  }
 },
 "nbformat": 4,
 "nbformat_minor": 2
}
